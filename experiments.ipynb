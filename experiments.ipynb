{
 "cells": [
  {
   "cell_type": "markdown",
   "metadata": {},
   "source": []
  },
  {
   "cell_type": "markdown",
   "metadata": {},
   "source": [
    "### Ideas for model pruning\n",
    "1. #### Lottery Ticket Hypothesis revised\n",
    "As advocated in LTH revised: https://arxiv.org/pdf/1903.01611.pdf, reinitialization to a later checkpoint might help in finding winning tickets.\n",
    "Experiments: \n",
    "   - Keep a new checkpoint on server after first round and use them for reinitialization in future.\n",
    "   - In LotteryFL train initial model on every client and keep a checkpoint for those weights. In future communications each client uses this checkpoint as a reference for reinitialization thus adding an inductive bias towards their specific task.\n",
    "   "
   ]
  },
  {
   "cell_type": "markdown",
   "metadata": {},
   "source": [
    "#### Experiment 1.\n",
    "- 2 Clients, 1 Server , client caches the global_init_model trained for a single epoch and then uses this for any further   reinitialization. Each client has 5 distinct classes.\n"
   ]
  },
  {
   "cell_type": "code",
   "execution_count": 1,
   "metadata": {
    "scrolled": true
   },
   "outputs": [
    {
     "name": "stdout",
     "output_type": "stream",
     "text": [
      "Using matplotlib backend: TkAgg\n"
     ]
    }
   ],
   "source": [
    "import torch\n",
    "from model.cifar10.cnn import CNN\n",
    "from torchvision import datasets,transforms\n",
    "from torch.nn.utils import prune\n",
    "from torch.utils.data import DataLoader\n",
    "from util import train,test,copy_model,create_model\n",
    "from matplotlib import pyplot as plt\n",
    "\n",
    "%matplotlib\n",
    "%matplotlib inline"
   ]
  },
  {
   "cell_type": "code",
   "execution_count": 2,
   "metadata": {},
   "outputs": [],
   "source": [
    "transformations = transforms.Compose([\n",
    "    transforms.ToTensor(),\n",
    "    transforms.Normalize((0.4914, 0.4822, 0.4465), (0.2023, 0.1994, 0.2010))\n",
    "])\n",
    "train_dataset = datasets.CIFAR10(\"./data\",train = True,transform = transformations)\n",
    "test_dataset = datasets.CIFAR10(\"./data/\",train = False,transform = transformations)"
   ]
  },
  {
   "cell_type": "code",
   "execution_count": 3,
   "metadata": {},
   "outputs": [],
   "source": [
    "model = create_model(CNN)\n",
    "train_loader = DataLoader(train_dataset,batch_size = 512,shuffle = True)\n",
    "test_loader = DataLoader(test_dataset,batch_size = 512,shuffle = True)"
   ]
  },
  {
   "cell_type": "code",
   "execution_count": 11,
   "metadata": {},
   "outputs": [
    {
     "ename": "SyntaxError",
     "evalue": "invalid syntax (<ipython-input-11-3feec5a9d56e>, line 7)",
     "output_type": "error",
     "traceback": [
      "\u001b[0;36m  File \u001b[0;32m\"<ipython-input-11-3feec5a9d56e>\"\u001b[0;36m, line \u001b[0;32m7\u001b[0m\n\u001b[0;31m    param1 = param*model1.\u001b[0m\n\u001b[0m                          ^\u001b[0m\n\u001b[0;31mSyntaxError\u001b[0m\u001b[0;31m:\u001b[0m invalid syntax\n"
     ]
    }
   ],
   "source": [
    "def L2Distance(model1,model2):\n",
    "    parameters1 = dict(model1.named_parameters())\n",
    "    parameters2 = dict(model2.named_parameters())\n",
    "    buffer1 = dict(model1.named_buffers())\n",
    "    dist = 0\n",
    "    for name,param in parameters1.items():\n",
    "        param1 = param*model1.\n",
    "    return dist"
   ]
  },
  {
   "cell_type": "code",
   "execution_count": 5,
   "metadata": {},
   "outputs": [],
   "source": [
    "assert L2Distance(model,model) == 0.0"
   ]
  },
  {
   "cell_type": "code",
   "execution_count": 6,
   "metadata": {},
   "outputs": [],
   "source": [
    "EPOCHS = 20\n",
    "loss = []\n",
    "accuracy = []\n",
    "l2Distance = []"
   ]
  },
  {
   "cell_type": "code",
   "execution_count": 7,
   "metadata": {},
   "outputs": [
    {
     "name": "stderr",
     "output_type": "stream",
     "text": [
      "100%|██████████| 98/98 [00:10<00:00,  9.21it/s, loss=1.65, acc=0.369]"
     ]
    },
    {
     "name": "stdout",
     "output_type": "stream",
     "text": [
      "|   Accuracy |   Precision |   Recall |      F1 |    Loss |\n",
      "|------------|-------------|----------|---------|---------|\n",
      "|    0.31586 |     0.31586 |  0.31586 | 0.31586 | 1.88867 |\n",
      "\r",
      "  0%|          | 0/20 [00:00<?, ?it/s]"
     ]
    },
    {
     "name": "stderr",
     "output_type": "stream",
     "text": [
      "\n"
     ]
    },
    {
     "name": "stdout",
     "output_type": "stream",
     "text": [
      "100%|██████████| 20/20 [00:01<00:00, 10.42it/s, acc=0.408]\n",
      "|   Accuracy |   Precision |   Recall |     F1 |\n",
      "|------------|-------------|----------|--------|\n",
      "|     0.4078 |      0.4078 |   0.4078 | 0.4078 |\n"
     ]
    }
   ],
   "source": [
    "for i in range(1):\n",
    "    metrics = train(model,train_loader,1e-3,verbose=True)\n",
    "    loss.append(metrics[\"Loss\"][0])\n",
    "    metrics = test(model,test_loader,verbose = True)\n",
    "    accuracy.append(metrics[\"Accuracy\"][0])\n"
   ]
  },
  {
   "cell_type": "code",
   "execution_count": 8,
   "metadata": {},
   "outputs": [],
   "source": [
    "model_1 = copy_model(model)"
   ]
  },
  {
   "cell_type": "code",
   "execution_count": 11,
   "metadata": {},
   "outputs": [
    {
     "name": "stderr",
     "output_type": "stream",
     "text": [
      "100%|██████████| 98/98 [00:16<00:00,  6.06it/s, loss=1.49, acc=0.464]|   Accuracy |   Precision |   Recall |     F1 |   Loss |\n",
      "|------------|-------------|----------|--------|--------|\n",
      "|     0.4289 |      0.4289 |   0.4289 | 0.4289 | 1.5808 |\n",
      "  0%|          | 0/20 [00:00<?, ?it/s]\n",
      "  0%|          | 0/98 [00:00<?, ?it/s]\n",
      "|   Accuracy |   Precision |   Recall |     F1 |\n",
      "|------------|-------------|----------|--------|\n",
      "|     0.4552 |      0.4552 |   0.4552 | 0.4552 |\n",
      "100%|██████████| 98/98 [00:15<00:00,  6.22it/s, loss=1.42, acc=0.479]|   Accuracy |   Precision |   Recall |      F1 |    Loss |\n",
      "|------------|-------------|----------|---------|---------|\n",
      "|    0.46028 |     0.46028 |  0.46028 | 0.46028 | 1.49656 |\n",
      "  0%|          | 0/20 [00:00<?, ?it/s]\n",
      "  0%|          | 0/98 [00:00<?, ?it/s]\n",
      "|   Accuracy |   Precision |   Recall |    F1 |\n",
      "|------------|-------------|----------|-------|\n",
      "|      0.485 |       0.485 |    0.485 | 0.485 |\n",
      "100%|██████████| 98/98 [00:15<00:00,  6.28it/s, loss=1.4, acc=0.521]|   Accuracy |   Precision |   Recall |      F1 |    Loss |\n",
      "|------------|-------------|----------|---------|---------|\n",
      "|    0.48902 |     0.48902 |  0.48902 | 0.48902 | 1.42375 |\n",
      "  0%|          | 0/20 [00:00<?, ?it/s]\n",
      "  0%|          | 0/98 [00:00<?, ?it/s]\n",
      "|   Accuracy |   Precision |   Recall |     F1 |\n",
      "|------------|-------------|----------|--------|\n",
      "|     0.5008 |      0.5008 |   0.5008 | 0.5008 |\n",
      "100%|██████████| 98/98 [00:15<00:00,  6.30it/s, loss=1.32, acc=0.548]|   Accuracy |   Precision |   Recall |      F1 |    Loss |\n",
      "|------------|-------------|----------|---------|---------|\n",
      "|    0.50776 |     0.50776 |  0.50776 | 0.50776 | 1.37024 |\n",
      "  0%|          | 0/20 [00:00<?, ?it/s]\n",
      "  0%|          | 0/98 [00:00<?, ?it/s]\n",
      "|   Accuracy |   Precision |   Recall |     F1 |\n",
      "|------------|-------------|----------|--------|\n",
      "|     0.5171 |      0.5171 |   0.5171 | 0.5171 |\n",
      "100%|██████████| 98/98 [00:15<00:00,  6.35it/s, loss=1.29, acc=0.554]|   Accuracy |   Precision |   Recall |      F1 |    Loss |\n",
      "|------------|-------------|----------|---------|---------|\n",
      "|    0.52814 |     0.52814 |  0.52814 | 0.52814 | 1.31842 |\n",
      "  0%|          | 0/20 [00:00<?, ?it/s]\n",
      "  0%|          | 0/98 [00:00<?, ?it/s]\n",
      "|   Accuracy |   Precision |   Recall |     F1 |\n",
      "|------------|-------------|----------|--------|\n",
      "|     0.5333 |      0.5333 |   0.5333 | 0.5333 |\n",
      "100%|██████████| 98/98 [00:16<00:00,  6.09it/s, loss=1.24, acc=0.565]|   Accuracy |   Precision |   Recall |      F1 |    Loss |\n",
      "|------------|-------------|----------|---------|---------|\n",
      "|    0.54696 |     0.54696 |  0.54696 | 0.54696 | 1.27336 |\n",
      "  0%|          | 0/20 [00:00<?, ?it/s]\n",
      "  0%|          | 0/98 [00:00<?, ?it/s]\n",
      "|   Accuracy |   Precision |   Recall |     F1 |\n",
      "|------------|-------------|----------|--------|\n",
      "|     0.5443 |      0.5443 |   0.5443 | 0.5443 |\n",
      "100%|██████████| 98/98 [00:17<00:00,  5.67it/s, loss=1.26, acc=0.554]|   Accuracy |   Precision |   Recall |      F1 |    Loss |\n",
      "|------------|-------------|----------|---------|---------|\n",
      "|    0.55746 |     0.55746 |  0.55746 | 0.55746 | 1.24179 |\n",
      "  0%|          | 0/20 [00:00<?, ?it/s]\n",
      "  0%|          | 0/98 [00:00<?, ?it/s]\n",
      "|   Accuracy |   Precision |   Recall |     F1 |\n",
      "|------------|-------------|----------|--------|\n",
      "|     0.5599 |      0.5599 |   0.5599 | 0.5599 |\n",
      "100%|██████████| 98/98 [00:15<00:00,  6.47it/s, loss=1.18, acc=0.551]|   Accuracy |   Precision |   Recall |      F1 |    Loss |\n",
      "|------------|-------------|----------|---------|---------|\n",
      "|    0.57308 |     0.57308 |  0.57308 | 0.57308 | 1.20056 |\n",
      "  0%|          | 0/20 [00:00<?, ?it/s]\n",
      "  0%|          | 0/98 [00:00<?, ?it/s]\n",
      "|   Accuracy |   Precision |   Recall |     F1 |\n",
      "|------------|-------------|----------|--------|\n",
      "|     0.5716 |      0.5716 |   0.5716 | 0.5716 |\n",
      "100%|██████████| 98/98 [00:15<00:00,  6.18it/s, loss=1.22, acc=0.548]|   Accuracy |   Precision |   Recall |      F1 |    Loss |\n",
      "|------------|-------------|----------|---------|---------|\n",
      "|    0.58736 |     0.58736 |  0.58736 | 0.58736 | 1.16541 |\n",
      "  0%|          | 0/20 [00:00<?, ?it/s]\n",
      "  0%|          | 0/98 [00:00<?, ?it/s]\n",
      "|   Accuracy |   Precision |   Recall |     F1 |\n",
      "|------------|-------------|----------|--------|\n",
      "|     0.5828 |      0.5828 |   0.5828 | 0.5828 |\n",
      "100%|██████████| 98/98 [00:14<00:00,  6.79it/s, loss=1.19, acc=0.568]|   Accuracy |   Precision |   Recall |      F1 |    Loss |\n",
      "|------------|-------------|----------|---------|---------|\n",
      "|    0.59068 |     0.59068 |  0.59068 | 0.59068 | 1.15073 |\n",
      "  0%|          | 0/20 [00:00<?, ?it/s]\n",
      "  0%|          | 0/98 [00:00<?, ?it/s]\n",
      "|   Accuracy |   Precision |   Recall |     F1 |\n",
      "|------------|-------------|----------|--------|\n",
      "|     0.5896 |      0.5896 |   0.5896 | 0.5896 |\n",
      "100%|██████████| 98/98 [00:14<00:00,  6.75it/s, loss=1.18, acc=0.562]|   Accuracy |   Precision |   Recall |     F1 |    Loss |\n",
      "|------------|-------------|----------|--------|---------|\n",
      "|     0.6056 |      0.6056 |   0.6056 | 0.6056 | 1.11139 |\n",
      "  0%|          | 0/20 [00:00<?, ?it/s]\n",
      "  0%|          | 0/98 [00:00<?, ?it/s]\n",
      "|   Accuracy |   Precision |   Recall |     F1 |\n",
      "|------------|-------------|----------|--------|\n",
      "|     0.5972 |      0.5972 |   0.5972 | 0.5972 |\n",
      "100%|██████████| 98/98 [00:14<00:00,  6.80it/s, loss=1.12, acc=0.607]|   Accuracy |   Precision |   Recall |      F1 |    Loss |\n",
      "|------------|-------------|----------|---------|---------|\n",
      "|    0.61014 |     0.61014 |  0.61014 | 0.61014 | 1.09846 |\n",
      "  0%|          | 0/20 [00:00<?, ?it/s]\n",
      "  0%|          | 0/98 [00:00<?, ?it/s]\n",
      "|   Accuracy |   Precision |   Recall |     F1 |\n",
      "|------------|-------------|----------|--------|\n",
      "|     0.5895 |      0.5895 |   0.5895 | 0.5895 |\n",
      "100%|██████████| 98/98 [00:15<00:00,  6.39it/s, loss=1.18, acc=0.571]|   Accuracy |   Precision |   Recall |      F1 |   Loss |\n",
      "|------------|-------------|----------|---------|--------|\n",
      "|    0.62438 |     0.62438 |  0.62438 | 0.62438 | 1.0644 |\n",
      "  0%|          | 0/20 [00:00<?, ?it/s]\n",
      "  0%|          | 0/98 [00:00<?, ?it/s]\n",
      "|   Accuracy |   Precision |   Recall |     F1 |\n",
      "|------------|-------------|----------|--------|\n",
      "|     0.6034 |      0.6034 |   0.6034 | 0.6034 |\n",
      "100%|██████████| 98/98 [00:15<00:00,  6.35it/s, loss=0.997, acc=0.67]|   Accuracy |   Precision |   Recall |     F1 |    Loss |\n",
      "|------------|-------------|----------|--------|---------|\n",
      "|     0.6296 |      0.6296 |   0.6296 | 0.6296 | 1.04896 |\n",
      "  0%|          | 0/20 [00:00<?, ?it/s]\n",
      "  0%|          | 0/98 [00:00<?, ?it/s]\n",
      "|   Accuracy |   Precision |   Recall |    F1 |\n",
      "|------------|-------------|----------|-------|\n",
      "|      0.605 |       0.605 |    0.605 | 0.605 |\n",
      "100%|██████████| 98/98 [00:14<00:00,  6.54it/s, loss=1.08, acc=0.619]|   Accuracy |   Precision |   Recall |      F1 |    Loss |\n",
      "|------------|-------------|----------|---------|---------|\n",
      "|    0.63762 |     0.63762 |  0.63762 | 0.63762 | 1.02327 |\n",
      "  0%|          | 0/20 [00:00<?, ?it/s]\n",
      "  0%|          | 0/98 [00:00<?, ?it/s]\n",
      "|   Accuracy |   Precision |   Recall |     F1 |\n",
      "|------------|-------------|----------|--------|\n",
      "|     0.6097 |      0.6097 |   0.6097 | 0.6097 |\n",
      "100%|██████████| 98/98 [00:17<00:00,  5.72it/s, loss=0.927, acc=0.699]|   Accuracy |   Precision |   Recall |     F1 |    Loss |\n",
      "|------------|-------------|----------|--------|---------|\n",
      "|     0.6431 |      0.6431 |   0.6431 | 0.6431 | 1.01023 |\n",
      "  0%|          | 0/20 [00:00<?, ?it/s]\n",
      "  0%|          | 0/98 [00:00<?, ?it/s]\n",
      "|   Accuracy |   Precision |   Recall |     F1 |\n",
      "|------------|-------------|----------|--------|\n",
      "|     0.6235 |      0.6235 |   0.6235 | 0.6235 |\n",
      "100%|██████████| 98/98 [00:14<00:00,  6.54it/s, loss=0.929, acc=0.679]|   Accuracy |   Precision |   Recall |      F1 |     Loss |\n",
      "|------------|-------------|----------|---------|----------|\n",
      "|    0.65012 |     0.65012 |  0.65012 | 0.65012 | 0.990188 |\n",
      "  0%|          | 0/20 [00:00<?, ?it/s]\n",
      "  0%|          | 0/98 [00:00<?, ?it/s]\n",
      "|   Accuracy |   Precision |   Recall |     F1 |\n",
      "|------------|-------------|----------|--------|\n",
      "|     0.6148 |      0.6148 |   0.6148 | 0.6148 |\n",
      "100%|██████████| 98/98 [00:17<00:00,  5.76it/s, loss=0.886, acc=0.679]|   Accuracy |   Precision |   Recall |      F1 |    Loss |\n",
      "|------------|-------------|----------|---------|---------|\n",
      "|    0.65672 |     0.65672 |  0.65672 | 0.65672 | 0.97374 |\n",
      "  0%|          | 0/20 [00:00<?, ?it/s]\n",
      "  0%|          | 0/98 [00:00<?, ?it/s]\n",
      "|   Accuracy |   Precision |   Recall |     F1 |\n",
      "|------------|-------------|----------|--------|\n",
      "|     0.6275 |      0.6275 |   0.6275 | 0.6275 |\n",
      "100%|██████████| 98/98 [00:16<00:00,  6.11it/s, loss=0.967, acc=0.631]\n",
      "|   Accuracy |   Precision |   Recall |      F1 |     Loss |\n",
      "|------------|-------------|----------|---------|----------|\n",
      "|    0.66318 |     0.66318 |  0.66318 | 0.66318 | 0.961799 |\n",
      "100%|██████████| 20/20 [00:03<00:00,  5.94it/s, acc=0.684]\n",
      "|   Accuracy |   Precision |   Recall |     F1 |\n",
      "|------------|-------------|----------|--------|\n",
      "|     0.6223 |      0.6223 |   0.6223 | 0.6223 |\n"
     ]
    }
   ],
   "source": [
    "for i in range(EPOCHS-1):\n",
    "    metrics = train(model,train_loader,1e-3,verbose=True)\n",
    "    loss.append(metrics[\"Loss\"][0])\n",
    "    metrics = test(model,test_loader,verbose = True)\n",
    "    accuracy.append(metrics[\"Accuracy\"][0])"
   ]
  },
  {
   "cell_type": "code",
   "execution_count": 9,
   "metadata": {},
   "outputs": [
    {
     "data": {
      "image/png": "[encoded data removed]",
      "text/plain": [
       "<Figure size 432x288 with 1 Axes>"
      ]
     },
     "metadata": {
      "needs_background": "light"
     },
     "output_type": "display_data"
    }
   ],
   "source": [
    "fig = plt.figure()\n",
    "plt.plot(loss)\n",
    "plt.xlabel(\"Epoch\")\n",
    "plt.ylabel(\"Loss\")\n",
    "plt.show()"
   ]
  },
  {
   "cell_type": "code",
   "execution_count": 10,
   "metadata": {},
   "outputs": [
    {
     "data": {
      "image/png": "[encoded data removed]",
      "text/plain": [
       "<Figure size 432x288 with 1 Axes>"
      ]
     },
     "metadata": {
      "needs_background": "light"
     },
     "output_type": "display_data"
    }
   ],
   "source": [
    "fig = plt.figure()\n",
    "plt.plot(accuracy)\n",
    "plt.xlabel(\"Epoch\")\n",
    "plt.ylabel(\"Accuracy\")\n",
    "plt.show()"
   ]
  },
  {
   "cell_type": "code",
   "execution_count": null,
   "metadata": {},
   "outputs": [],
   "source": []
  }
 ],
 "metadata": {
  "interpreter": {
   "hash": "067485f78782b1842b8000df3edc7ff0da6075b40c4ef6b239b4438569e5e362"
  },
  "kernelspec": {
   "display_name": "Python 3",
   "language": "python",
   "name": "python3"
  },
  "language_info": {
   "codemirror_mode": {
    "name": "ipython",
    "version": 3
   },
   "file_extension": ".py",
   "mimetype": "text/x-python",
   "name": "python",
   "nbconvert_exporter": "python",
   "pygments_lexer": "ipython3",
   "version": "3.7.10"
  }
 },
 "nbformat": 4,
 "nbformat_minor": 2
}
